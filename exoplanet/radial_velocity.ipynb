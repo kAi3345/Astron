{
  "nbformat": 4,
  "nbformat_minor": 0,
  "metadata": {
    "colab": {
      "provenance": [],
      "authorship_tag": "ABX9TyNs8PdKLJ3TGjYVh2h9Ei2c",
      "include_colab_link": true
    },
    "kernelspec": {
      "name": "python3",
      "display_name": "Python 3"
    },
    "language_info": {
      "name": "python"
    }
  },
  "cells": [
    {
      "cell_type": "markdown",
      "metadata": {
        "id": "view-in-github",
        "colab_type": "text"
      },
      "source": [
        "<a href=\"https://colab.research.google.com/github/kAi3345/Astron/blob/main/exoplanet/radial_velocity.ipynb\" target=\"_parent\"><img src=\"https://colab.research.google.com/assets/colab-badge.svg\" alt=\"Open In Colab\"/></a>"
      ]
    },
    {
      "cell_type": "code",
      "source": [
        "import numpy as np\n",
        "import astropy.units as u\n",
        "import astropy.constants as ac"
      ],
      "metadata": {
        "id": "7REoaU8vqzlh"
      },
      "execution_count": 2,
      "outputs": []
    },
    {
      "cell_type": "code",
      "source": [
        "d = 2 * u. solRad                                     # diameter of the Sun"
      ],
      "metadata": {
        "id": "vrtwIybcrpL3"
      },
      "execution_count": 3,
      "outputs": []
    },
    {
      "cell_type": "code",
      "source": [
        "a= 1 * u.AU                                           # the distance from Earth to the Sun\n",
        "v = np.sqrt(ac.G * u.solMass / a)                     # since v = sqrt(GM / r), we got the orbital velocity of Earth around the Sun\n",
        "\n",
        "print(v.to(u.km/u.s))"
      ],
      "metadata": {
        "colab": {
          "base_uri": "https://localhost:8080/"
        },
        "id": "hKH0y1-GsDF1",
        "outputId": "cf21cd4b-a79a-47bc-9ae7-de247bdf6425"
      },
      "execution_count": null,
      "outputs": [
        {
          "output_type": "stream",
          "name": "stdout",
          "text": [
            "29.784691829676934 km / s\n"
          ]
        }
      ]
    },
    {
      "cell_type": "code",
      "source": [
        "t = d / v                                             # the duration of a Earth mass object transiting the Sun\n",
        "\n",
        "print(t.to(u.hour))                                   # change unit to hour"
      ],
      "metadata": {
        "colab": {
          "base_uri": "https://localhost:8080/"
        },
        "id": "ma16sx-4sF_O",
        "outputId": "d7a0e51a-40c9-478b-ccbb-ef13d614d2a5"
      },
      "execution_count": null,
      "outputs": [
        {
          "output_type": "stream",
          "name": "stdout",
          "text": [
            "12.976464628547822 h\n"
          ]
        }
      ]
    },
    {
      "cell_type": "code",
      "source": [
        "jupiterA = 5 * u.AU                                     # the distance from Jupiter to the Sun is about 5 AU\n",
        "\n",
        "jupiterV = np.sqrt(ac.G * u.solMass / jupiterA)         # the orbital velocity of Jupiter around the Sun\n",
        "\n",
        "print(jupiterV.to(u.m/u.s))\n",
        "\n",
        "jupiterT = d / jupiterV                                 # the duration of a Jupiter mass object transiting the Sun\n",
        "\n",
        "print(jupiterT. to(u.hour))"
      ],
      "metadata": {
        "colab": {
          "base_uri": "https://localhost:8080/"
        },
        "id": "VmhQpGJfsf-G",
        "outputId": "2facfc34-f292-4d11-85dd-8a7a8c2158e4"
      },
      "execution_count": null,
      "outputs": [
        {
          "output_type": "stream",
          "name": "stdout",
          "text": [
            "13320.119124008042 m / s\n",
            "29.01625701705449 h\n"
          ]
        }
      ]
    },
    {
      "cell_type": "code",
      "source": [
        "sunV = (u.earthMass/ u.solMass * v).to(u.m / u.s )      # calculate the velocity of sun in response to Earth orbiting around the Sun\n",
        "\n",
        "print(sunV)\n",
        "\n",
        "sunVjupiter = (u.jupiterMass / u.solMass * jupiterV).to(u.m / u.s)    # calculate the velocity of sun in response to Jupiter orbiting around the Sun\n",
        "\n",
        "print(sunVjupiter)"
      ],
      "metadata": {
        "colab": {
          "base_uri": "https://localhost:8080/"
        },
        "id": "1rVHcbbEsqYV",
        "outputId": "23b71c13-e267-41b1-8022-ba6dc009bd1b"
      },
      "execution_count": null,
      "outputs": [
        {
          "output_type": "stream",
          "name": "stdout",
          "text": [
            "0.08945800466923791 m / s\n",
            "12.715308911562614 m / s\n"
          ]
        }
      ]
    },
    {
      "cell_type": "code",
      "source": [],
      "metadata": {
        "id": "_LtQyo1yxR4W"
      },
      "execution_count": null,
      "outputs": []
    }
  ]
}