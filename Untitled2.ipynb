{
  "nbformat": 4,
  "nbformat_minor": 0,
  "metadata": {
    "colab": {
      "provenance": [],
      "authorship_tag": "ABX9TyMREDrabQ8JvfJp8wzoUTKL",
      "include_colab_link": true
    },
    "kernelspec": {
      "name": "python3",
      "display_name": "Python 3"
    },
    "language_info": {
      "name": "python"
    }
  },
  "cells": [
    {
      "cell_type": "markdown",
      "metadata": {
        "id": "view-in-github",
        "colab_type": "text"
      },
      "source": [
        "<a href=\"https://colab.research.google.com/github/kAi3345/Dark-Matter/blob/main/Untitled2.ipynb\" target=\"_parent\"><img src=\"https://colab.research.google.com/assets/colab-badge.svg\" alt=\"Open In Colab\"/></a>"
      ]
    },
    {
      "cell_type": "code",
      "execution_count": 4,
      "metadata": {
        "id": "uElGyp6FjL8X"
      },
      "outputs": [],
      "source": [
        "import numpy as np\n",
        "import astropy.units as u\n",
        "import astropy.constants as ac\n",
        "from google.colab import files"
      ]
    },
    {
      "cell_type": "code",
      "source": [
        "r = (((2 * ac.G * u.solMass) / ac.c ** 2).si).to(u.km)\n",
        "\n",
        "print(r)\n",
        "\n",
        "m = (0.01 * u.second * ac.c**3) / (16 * np.pi * ac.G)\n",
        "\n",
        "m.to(u.solMass)"
      ],
      "metadata": {
        "colab": {
          "base_uri": "https://localhost:8080/",
          "height": 55
        },
        "id": "QV0MKBvCjjEk",
        "outputId": "2db10c12-f2c7-41b1-d8e2-a167d1734889"
      },
      "execution_count": 25,
      "outputs": [
        {
          "output_type": "stream",
          "name": "stdout",
          "text": [
            "2.95325007610025 km\n"
          ]
        },
        {
          "output_type": "execute_result",
          "data": {
            "text/plain": [
              "<Quantity 40.39062928 solMass>"
            ],
            "text/latex": "$40.390629 \\; \\mathrm{M_{\\odot}}$"
          },
          "metadata": {},
          "execution_count": 25
        }
      ]
    },
    {
      "cell_type": "code",
      "source": [
        "h = 1e-21\n",
        "\n",
        "r = (1 * u.earthRad * h).to(u.m)\n",
        "\n",
        "print(r)"
      ],
      "metadata": {
        "colab": {
          "base_uri": "https://localhost:8080/"
        },
        "id": "FrzzBuZ4jXU1",
        "outputId": "4566d29f-05ae-4299-a522-23f2c1fa74cd"
      },
      "execution_count": 31,
      "outputs": [
        {
          "output_type": "stream",
          "name": "stdout",
          "text": [
            "6.378099999999999e-15 m\n"
          ]
        }
      ]
    },
    {
      "cell_type": "code",
      "source": [
        "R_bh = 2 * ac.G * 30 * u.solMass / ac.c**2\n",
        "\n",
        "D = (R_bh / h). to (u.kpc)\n",
        "\n",
        "print(D)\n",
        "\n"
      ],
      "metadata": {
        "colab": {
          "base_uri": "https://localhost:8080/"
        },
        "id": "sAbKAW9qoD8m",
        "outputId": "622eb287-1d78-4a19-8a17-c2c4fcc1af95"
      },
      "execution_count": 41,
      "outputs": [
        {
          "output_type": "stream",
          "name": "stdout",
          "text": [
            "2871249.504952705 kpc\n"
          ]
        }
      ]
    },
    {
      "cell_type": "code",
      "source": [],
      "metadata": {
        "id": "DLjSdePApty-"
      },
      "execution_count": null,
      "outputs": []
    }
  ]
}