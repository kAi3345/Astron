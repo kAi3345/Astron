{
  "cells": [
    {
      "cell_type": "markdown",
      "metadata": {
        "id": "view-in-github",
        "colab_type": "text"
      },
      "source": [
        "<a href=\"https://colab.research.google.com/github/kAi3345/Dark-Matter/blob/main/rotation_curve.ipynb\" target=\"_parent\"><img src=\"https://colab.research.google.com/assets/colab-badge.svg\" alt=\"Open In Colab\"/></a>"
      ]
    },
    {
      "cell_type": "code",
      "execution_count": 1,
      "metadata": {
        "id": "nCz1_SxuR6BC"
      },
      "outputs": [],
      "source": [
        "import numpy as np\n",
        "import astropy.units as u\n",
        "import astropy.constants as ac\n",
        "import matplotlib.pyplot as plt\n",
        "import pandas as pd\n"
      ]
    },
    {
      "cell_type": "code",
      "execution_count": 2,
      "metadata": {
        "id": "37Lv3qA855Au"
      },
      "outputs": [],
      "source": [
        "from google.colab import files"
      ]
    },
    {
      "cell_type": "code",
      "execution_count": 3,
      "metadata": {
        "colab": {
          "base_uri": "https://localhost:8080/",
          "height": 74
        },
        "id": "UfhborVy6DQk",
        "outputId": "5a25cdd4-4f31-46e4-b889-749a49a8d78c"
      },
      "outputs": [
        {
          "output_type": "display_data",
          "data": {
            "text/plain": [
              "<IPython.core.display.HTML object>"
            ],
            "text/html": [
              "\n",
              "     <input type=\"file\" id=\"files-9d76c700-07dd-4018-bef5-6b134bdc306b\" name=\"files[]\" multiple disabled\n",
              "        style=\"border:none\" />\n",
              "     <output id=\"result-9d76c700-07dd-4018-bef5-6b134bdc306b\">\n",
              "      Upload widget is only available when the cell has been executed in the\n",
              "      current browser session. Please rerun this cell to enable.\n",
              "      </output>\n",
              "      <script>// Copyright 2017 Google LLC\n",
              "//\n",
              "// Licensed under the Apache License, Version 2.0 (the \"License\");\n",
              "// you may not use this file except in compliance with the License.\n",
              "// You may obtain a copy of the License at\n",
              "//\n",
              "//      http://www.apache.org/licenses/LICENSE-2.0\n",
              "//\n",
              "// Unless required by applicable law or agreed to in writing, software\n",
              "// distributed under the License is distributed on an \"AS IS\" BASIS,\n",
              "// WITHOUT WARRANTIES OR CONDITIONS OF ANY KIND, either express or implied.\n",
              "// See the License for the specific language governing permissions and\n",
              "// limitations under the License.\n",
              "\n",
              "/**\n",
              " * @fileoverview Helpers for google.colab Python module.\n",
              " */\n",
              "(function(scope) {\n",
              "function span(text, styleAttributes = {}) {\n",
              "  const element = document.createElement('span');\n",
              "  element.textContent = text;\n",
              "  for (const key of Object.keys(styleAttributes)) {\n",
              "    element.style[key] = styleAttributes[key];\n",
              "  }\n",
              "  return element;\n",
              "}\n",
              "\n",
              "// Max number of bytes which will be uploaded at a time.\n",
              "const MAX_PAYLOAD_SIZE = 100 * 1024;\n",
              "\n",
              "function _uploadFiles(inputId, outputId) {\n",
              "  const steps = uploadFilesStep(inputId, outputId);\n",
              "  const outputElement = document.getElementById(outputId);\n",
              "  // Cache steps on the outputElement to make it available for the next call\n",
              "  // to uploadFilesContinue from Python.\n",
              "  outputElement.steps = steps;\n",
              "\n",
              "  return _uploadFilesContinue(outputId);\n",
              "}\n",
              "\n",
              "// This is roughly an async generator (not supported in the browser yet),\n",
              "// where there are multiple asynchronous steps and the Python side is going\n",
              "// to poll for completion of each step.\n",
              "// This uses a Promise to block the python side on completion of each step,\n",
              "// then passes the result of the previous step as the input to the next step.\n",
              "function _uploadFilesContinue(outputId) {\n",
              "  const outputElement = document.getElementById(outputId);\n",
              "  const steps = outputElement.steps;\n",
              "\n",
              "  const next = steps.next(outputElement.lastPromiseValue);\n",
              "  return Promise.resolve(next.value.promise).then((value) => {\n",
              "    // Cache the last promise value to make it available to the next\n",
              "    // step of the generator.\n",
              "    outputElement.lastPromiseValue = value;\n",
              "    return next.value.response;\n",
              "  });\n",
              "}\n",
              "\n",
              "/**\n",
              " * Generator function which is called between each async step of the upload\n",
              " * process.\n",
              " * @param {string} inputId Element ID of the input file picker element.\n",
              " * @param {string} outputId Element ID of the output display.\n",
              " * @return {!Iterable<!Object>} Iterable of next steps.\n",
              " */\n",
              "function* uploadFilesStep(inputId, outputId) {\n",
              "  const inputElement = document.getElementById(inputId);\n",
              "  inputElement.disabled = false;\n",
              "\n",
              "  const outputElement = document.getElementById(outputId);\n",
              "  outputElement.innerHTML = '';\n",
              "\n",
              "  const pickedPromise = new Promise((resolve) => {\n",
              "    inputElement.addEventListener('change', (e) => {\n",
              "      resolve(e.target.files);\n",
              "    });\n",
              "  });\n",
              "\n",
              "  const cancel = document.createElement('button');\n",
              "  inputElement.parentElement.appendChild(cancel);\n",
              "  cancel.textContent = 'Cancel upload';\n",
              "  const cancelPromise = new Promise((resolve) => {\n",
              "    cancel.onclick = () => {\n",
              "      resolve(null);\n",
              "    };\n",
              "  });\n",
              "\n",
              "  // Wait for the user to pick the files.\n",
              "  const files = yield {\n",
              "    promise: Promise.race([pickedPromise, cancelPromise]),\n",
              "    response: {\n",
              "      action: 'starting',\n",
              "    }\n",
              "  };\n",
              "\n",
              "  cancel.remove();\n",
              "\n",
              "  // Disable the input element since further picks are not allowed.\n",
              "  inputElement.disabled = true;\n",
              "\n",
              "  if (!files) {\n",
              "    return {\n",
              "      response: {\n",
              "        action: 'complete',\n",
              "      }\n",
              "    };\n",
              "  }\n",
              "\n",
              "  for (const file of files) {\n",
              "    const li = document.createElement('li');\n",
              "    li.append(span(file.name, {fontWeight: 'bold'}));\n",
              "    li.append(span(\n",
              "        `(${file.type || 'n/a'}) - ${file.size} bytes, ` +\n",
              "        `last modified: ${\n",
              "            file.lastModifiedDate ? file.lastModifiedDate.toLocaleDateString() :\n",
              "                                    'n/a'} - `));\n",
              "    const percent = span('0% done');\n",
              "    li.appendChild(percent);\n",
              "\n",
              "    outputElement.appendChild(li);\n",
              "\n",
              "    const fileDataPromise = new Promise((resolve) => {\n",
              "      const reader = new FileReader();\n",
              "      reader.onload = (e) => {\n",
              "        resolve(e.target.result);\n",
              "      };\n",
              "      reader.readAsArrayBuffer(file);\n",
              "    });\n",
              "    // Wait for the data to be ready.\n",
              "    let fileData = yield {\n",
              "      promise: fileDataPromise,\n",
              "      response: {\n",
              "        action: 'continue',\n",
              "      }\n",
              "    };\n",
              "\n",
              "    // Use a chunked sending to avoid message size limits. See b/62115660.\n",
              "    let position = 0;\n",
              "    do {\n",
              "      const length = Math.min(fileData.byteLength - position, MAX_PAYLOAD_SIZE);\n",
              "      const chunk = new Uint8Array(fileData, position, length);\n",
              "      position += length;\n",
              "\n",
              "      const base64 = btoa(String.fromCharCode.apply(null, chunk));\n",
              "      yield {\n",
              "        response: {\n",
              "          action: 'append',\n",
              "          file: file.name,\n",
              "          data: base64,\n",
              "        },\n",
              "      };\n",
              "\n",
              "      let percentDone = fileData.byteLength === 0 ?\n",
              "          100 :\n",
              "          Math.round((position / fileData.byteLength) * 100);\n",
              "      percent.textContent = `${percentDone}% done`;\n",
              "\n",
              "    } while (position < fileData.byteLength);\n",
              "  }\n",
              "\n",
              "  // All done.\n",
              "  yield {\n",
              "    response: {\n",
              "      action: 'complete',\n",
              "    }\n",
              "  };\n",
              "}\n",
              "\n",
              "scope.google = scope.google || {};\n",
              "scope.google.colab = scope.google.colab || {};\n",
              "scope.google.colab._files = {\n",
              "  _uploadFiles,\n",
              "  _uploadFilesContinue,\n",
              "};\n",
              "})(self);\n",
              "</script> "
            ]
          },
          "metadata": {}
        },
        {
          "output_type": "stream",
          "name": "stdout",
          "text": [
            "Saving galaxy_rotation_2006.txt to galaxy_rotation_2006.txt\n"
          ]
        }
      ],
      "source": [
        "upload = files.upload()      #upload the galaxy rotation data file"
      ]
    },
    {
      "cell_type": "code",
      "execution_count": 4,
      "metadata": {
        "id": "BbajPkPb66gj"
      },
      "outputs": [],
      "source": [
        "import astropy.io.ascii\n"
      ]
    },
    {
      "cell_type": "code",
      "execution_count": 5,
      "metadata": {
        "colab": {
          "base_uri": "https://localhost:8080/",
          "height": 528
        },
        "id": "mGh7hDQ57U_u",
        "outputId": "946e0aec-1a5a-4cc6-ff26-f8486fe61a5f"
      },
      "outputs": [
        {
          "output_type": "execute_result",
          "data": {
            "text/plain": [
              "<Table length=28>\n",
              "  col1    col2    col3    col4 \n",
              "float64 float64 float64 float64\n",
              "------- ------- ------- -------\n",
              "   25.0    5.68   235.5    17.8\n",
              "   30.0    6.81   242.9     0.8\n",
              "   35.0    7.95   251.1     0.7\n",
              "   40.0    9.08   262.0     2.1\n",
              "   45.0   10.22   258.9     6.9\n",
              "   50.0   11.35   255.1     5.7\n",
              "   55.0   12.49   251.8    17.1\n",
              "   60.0   13.62   252.1     7.4\n",
              "   65.0   14.76   251.0    18.6\n",
              "   70.0   15.89   245.5    28.8\n",
              "    ...     ...     ...     ...\n",
              "  112.5   25.54   227.4    28.8\n",
              "  117.0   26.56   225.6    28.8\n",
              "  121.5   27.58   224.4    28.8\n",
              "  126.0    28.6   222.3    28.8\n",
              "  130.5   29.62   222.1    28.8\n",
              "  135.0   30.65   224.9    28.8\n",
              "  139.5   31.67   228.1    28.8\n",
              "  144.0   32.69   231.1    28.8\n",
              "  148.5   33.71   230.4    28.8\n",
              "  153.0   34.73   226.8    28.8"
            ],
            "text/html": [
              "<div><i>Table length=28</i>\n",
              "<table id=\"table138370956979664\" class=\"table-striped table-bordered table-condensed\">\n",
              "<thead><tr><th>col1</th><th>col2</th><th>col3</th><th>col4</th></tr></thead>\n",
              "<thead><tr><th>float64</th><th>float64</th><th>float64</th><th>float64</th></tr></thead>\n",
              "<tr><td>25.0</td><td>5.68</td><td>235.5</td><td>17.8</td></tr>\n",
              "<tr><td>30.0</td><td>6.81</td><td>242.9</td><td>0.8</td></tr>\n",
              "<tr><td>35.0</td><td>7.95</td><td>251.1</td><td>0.7</td></tr>\n",
              "<tr><td>40.0</td><td>9.08</td><td>262.0</td><td>2.1</td></tr>\n",
              "<tr><td>45.0</td><td>10.22</td><td>258.9</td><td>6.9</td></tr>\n",
              "<tr><td>50.0</td><td>11.35</td><td>255.1</td><td>5.7</td></tr>\n",
              "<tr><td>55.0</td><td>12.49</td><td>251.8</td><td>17.1</td></tr>\n",
              "<tr><td>60.0</td><td>13.62</td><td>252.1</td><td>7.4</td></tr>\n",
              "<tr><td>65.0</td><td>14.76</td><td>251.0</td><td>18.6</td></tr>\n",
              "<tr><td>70.0</td><td>15.89</td><td>245.5</td><td>28.8</td></tr>\n",
              "<tr><td>...</td><td>...</td><td>...</td><td>...</td></tr>\n",
              "<tr><td>112.5</td><td>25.54</td><td>227.4</td><td>28.8</td></tr>\n",
              "<tr><td>117.0</td><td>26.56</td><td>225.6</td><td>28.8</td></tr>\n",
              "<tr><td>121.5</td><td>27.58</td><td>224.4</td><td>28.8</td></tr>\n",
              "<tr><td>126.0</td><td>28.6</td><td>222.3</td><td>28.8</td></tr>\n",
              "<tr><td>130.5</td><td>29.62</td><td>222.1</td><td>28.8</td></tr>\n",
              "<tr><td>135.0</td><td>30.65</td><td>224.9</td><td>28.8</td></tr>\n",
              "<tr><td>139.5</td><td>31.67</td><td>228.1</td><td>28.8</td></tr>\n",
              "<tr><td>144.0</td><td>32.69</td><td>231.1</td><td>28.8</td></tr>\n",
              "<tr><td>148.5</td><td>33.71</td><td>230.4</td><td>28.8</td></tr>\n",
              "<tr><td>153.0</td><td>34.73</td><td>226.8</td><td>28.8</td></tr>\n",
              "</table></div>"
            ]
          },
          "metadata": {},
          "execution_count": 5
        }
      ],
      "source": [
        "tab = astropy.io.ascii.read(\"galaxy_rotation_2006.txt\")     # open the galaxy rotation data file in python\n",
        "tab"
      ]
    },
    {
      "cell_type": "code",
      "execution_count": 6,
      "metadata": {
        "colab": {
          "base_uri": "https://localhost:8080/",
          "height": 473
        },
        "id": "ojVJf-zH9z8H",
        "outputId": "23fb94fe-6306-492a-d978-2265624d08af"
      },
      "outputs": [
        {
          "output_type": "execute_result",
          "data": {
            "text/plain": [
              "Text(0, 0.5, 'velocity [km/s]')"
            ]
          },
          "metadata": {},
          "execution_count": 6
        },
        {
          "output_type": "display_data",
          "data": {
            "text/plain": [
              "<Figure size 640x480 with 1 Axes>"
            ],
            "image/png": "[encoded data removed]"
          },
          "metadata": {}
        }
      ],
      "source": [
        "dis = tab['col2']               # creating a distance array with the data of column 2 of the file galaxy_rotation_2006.txt\n",
        "vel = tab['col3']               # creating a velocity array with the data of column 2 of the file galaxy_rotation_2006.txt\n",
        "plt.plot(dis,vel)               # draw a picture with distance array and velocity array\n",
        "plt.ylim(0,300)                 # limit y axis from 0 to 300\n",
        "plt.xlabel(\"Distance [Kpc]\")    # label x-axis as the distance in kiloparsec\n",
        "plt.ylabel(\"velocity [km/s]\")   # label y-axis as the velocity in km/s"
      ]
    },
    {
      "cell_type": "code",
      "execution_count": 7,
      "metadata": {
        "id": "WRkfuzSl7jkH"
      },
      "outputs": [],
      "source": [
        "def calc_orbital_velocity(mass, radius):       #define a function that calculate the orbital velocity using input mass and radius\n",
        "  return np.sqrt((ac.G * mass) / radius)"
      ]
    },
    {
      "cell_type": "code",
      "execution_count": 8,
      "metadata": {
        "colab": {
          "base_uri": "https://localhost:8080/"
        },
        "id": "oTPhG2o7-ZlU",
        "outputId": "3014e6d6-8298-4dcc-a917-658fca34dfe1"
      },
      "outputs": [
        {
          "output_type": "stream",
          "name": "stdout",
          "text": [
            "7.905388234385281 km / s\n"
          ]
        }
      ],
      "source": [
        "mass = 1 * u.earthMass                         #assign mass equal to the mass of Earth\n",
        "radius = 1 * u.earthRad                        #assign radius equal to the radius of Earth\n",
        "\n",
        "orb_vel = calc_orbital_velocity(mass,radius)   # calculate the orbital velocity using the predefined function\n",
        "\n",
        "print(orb_vel.to(u.km / u.s))                  # change the unit to km/s and print out the velocity\n"
      ]
    },
    {
      "cell_type": "code",
      "execution_count": 9,
      "metadata": {
        "colab": {
          "base_uri": "https://localhost:8080/"
        },
        "id": "tSENVp2O_ZnV",
        "outputId": "75520602-eb28-4e95-aa66-a99aa6968100"
      },
      "outputs": [
        {
          "output_type": "stream",
          "name": "stdout",
          "text": [
            "4.766142291386287 km / s\n"
          ]
        }
      ],
      "source": [
        "mass = 3e7 * u.solMass                         # using mass of the black hole in Andromeda galaxy\n",
        "radius = 5.68 * 1000 * u.parsec                # using radius of the black hole in Andromeda galaxy\n",
        "orb_vel = calc_orbital_velocity(mass,radius)   # calculate the orbital velocity using the predefined function\n",
        "\n",
        "print(orb_vel.to(u.km / u.s))                  # change the unit to km/s and print out the velocity\n"
      ]
    },
    {
      "cell_type": "code",
      "execution_count": 10,
      "metadata": {
        "id": "ylOnAMZLCBY7"
      },
      "outputs": [],
      "source": [
        "vel_bh = np.zeros(np.shape(dis)) * u.km / u.s  # create a velocity array with the same number of elements as the distance array"
      ]
    },
    {
      "cell_type": "code",
      "execution_count": 11,
      "metadata": {
        "colab": {
          "base_uri": "https://localhost:8080/"
        },
        "id": "4woTWFZe_y90",
        "outputId": "c71f5df7-93a9-4adb-c136-3a7b1326ca36"
      },
      "outputs": [
        {
          "output_type": "stream",
          "name": "stdout",
          "text": [
            "The orbital velocity at  5.68  kpc =  4.766142291386287 km / s\n",
            "The orbital velocity at  6.81  kpc =  4.352789004155528 km / s\n",
            "The orbital velocity at  7.95  kpc =  4.028632086788635 km / s\n",
            "The orbital velocity at  9.08  kpc =  3.7696258549122557 km / s\n",
            "The orbital velocity at  10.22  kpc =  3.5531678501224344 km / s\n",
            "The orbital velocity at  11.35  kpc =  3.3716558645298256 km / s\n",
            "The orbital velocity at  12.49  kpc =  3.214104201911268 km / s\n",
            "The orbital velocity at  13.62  kpc =  3.077886621912613 km / s\n",
            "The orbital velocity at  14.76  kpc =  2.956636901678396 km / s\n",
            "The orbital velocity at  15.89  kpc =  2.8495692993877366 km / s\n",
            "The orbital velocity at  17.03  kpc =  2.7525413240352865 km / s\n",
            "The orbital velocity at  18.16  kpc =  2.6655280045445924 km / s\n",
            "The orbital velocity at  19.3  kpc =  2.585607014258112 km / s\n",
            "The orbital velocity at  20.43  kpc =  2.513083903274837 km / s\n",
            "The orbital velocity at  21.45  kpc =  2.4526045154369367 km / s\n",
            "The orbital velocity at  22.47  kpc =  2.396291435442096 km / s\n",
            "The orbital velocity at  23.5  kpc =  2.3431885722563384 km / s\n",
            "The orbital velocity at  24.52  kpc =  2.2939341077958164 km / s\n",
            "The orbital velocity at  25.54  kpc =  2.2476605613970118 km / s\n",
            "The orbital velocity at  26.56  kpc =  2.2040788969377942 km / s\n",
            "The orbital velocity at  27.58  kpc =  2.16293785132581 km / s\n",
            "The orbital velocity at  28.6  kpc =  2.1240178158048106 km / s\n",
            "The orbital velocity at  29.62  kpc =  2.0871258866233693 km / s\n",
            "The orbital velocity at  30.65  kpc =  2.0517570403747105 km / s\n",
            "The orbital velocity at  31.67  kpc =  2.018446023057773 km / s\n",
            "The orbital velocity at  32.69  kpc =  1.986706494439242 km / s\n",
            "The orbital velocity at  33.71  kpc =  1.9564186559412566 km / s\n",
            "The orbital velocity at  34.73  kpc =  1.9274751166742614 km / s\n"
          ]
        }
      ],
      "source": [
        "for i, radius in enumerate(dis):               #using loop to calculate the orbital velocity of each black hole in the data set\n",
        "  rad = radius * 1000 * u.parsec               #change unit of radius of kpc to pc\n",
        "  orb_vel = calc_orbital_velocity(mass,rad)    #calculate orbital velocity using the function\n",
        "  vel_bh[i] = orb_vel                          #assign each orbital velocity to the vel_bh array\n",
        "  print(\"The orbital velocity at \", radius, \" kpc = \",orb_vel.to(u.km/u.s))          #print the radius of each black hole and corresponding orbital speed\n"
      ]
    },
    {
      "cell_type": "code",
      "execution_count": 12,
      "metadata": {
        "colab": {
          "base_uri": "https://localhost:8080/",
          "height": 473
        },
        "id": "_lFz-5ZfYNN5",
        "outputId": "71182b88-f2d2-4284-cc33-fea48981a84d"
      },
      "outputs": [
        {
          "output_type": "execute_result",
          "data": {
            "text/plain": [
              "<matplotlib.legend.Legend at 0x7dd8ff302aa0>"
            ]
          },
          "metadata": {},
          "execution_count": 12
        },
        {
          "output_type": "display_data",
          "data": {
            "text/plain": [
              "<Figure size 640x480 with 1 Axes>"
            ],
            "image/png": "[encoded data removed]"
          },
          "metadata": {}
        }
      ],
      "source": [
        "dis = tab['col2']                                                          # creating a distance array with the data of column 2 of the file galaxy_rotation_2006.txt\n",
        "vel = tab['col3']                                                          # creating a velocity array with the data of column 2 of the file galaxy_rotation_2006.txt\n",
        "plt.plot(dis,vel, color =\"black\", label = \"Data\")                          # draw a black line labeled by \"Data\" with x values from distance array and y values from velocity array\n",
        "plt.plot(dis,vel_bh.value, color = \"red\", label = \"Black Hole\")            # draw a red line labeled by \"Black Hole\" with x values from distance array and y values from vel_bh array that stores the black hole orbital velocity\n",
        "plt.ylim(0,300)                                                            # limit y axis from 0 to 300\n",
        "plt.xlabel(\"Distance [Kpc]\")                                               # label x-axis as the distance in kiloparsec\n",
        "plt.ylabel(\"velocity [km/s]\")                                              # label y-axis as the velocity in km/s\n",
        "plt.legend()"
      ]
    },
    {
      "cell_type": "code",
      "source": [
        "mass_Bulge = 2.2e10 * u.solMass\n",
        "\n",
        "radius_Bulge = 1.99e3 * u.parsec\n",
        "\n",
        "density_Bulge = mass_Bulge / (4/3 * np.pi * radius_Bulge**3)\n",
        "\n",
        "#def calc_Mass_Bulge (bulgeDensity,bulgeRadius):\n",
        "  #bulgeVolume = 4 /3 * np.pi * bulgeRadius ** 3;\n",
        "  #return bulgeDensity * bulgeVolume\n",
        "\n",
        "vel_bul = np.zeros(np.shape(dis)) * u.km / u.s\n",
        "\n",
        "for i, radius in enumerate(dis):\n",
        "  rad = radius * 1000 * u.parsec\n",
        "  orb_vel = calc_orbital_velocity(mass_Bulge,rad)\n",
        "  vel_bul[i] = orb_vel\n"
      ],
      "metadata": {
        "id": "mANAfsrik7Sz"
      },
      "execution_count": 41,
      "outputs": []
    },
    {
      "cell_type": "code",
      "source": [
        "dis = tab['col2']                                                          # creating a distance array with the data of column 2 of the file galaxy_rotation_2006.txt\n",
        "vel = tab['col3']                                                          # creating a velocity array with the data of column 2 of the file galaxy_rotation_2006.txt\n",
        "plt.plot(dis,vel, color =\"black\", label = \"Data\")                          # draw a black line labeled by \"Data\" with x values from distance array and y values from velocity array\n",
        "plt.plot(dis,vel_bh.value, color = \"red\", label = \"Black Hole\")            # draw a red line labeled by \"Black Hole\" with x values from distance array and y values from vel_bh array that stores the black hole orbital velocity\n",
        "plt.plot(dis,vel_bul.value,color = \"blue\", label = \"Bulge\")\n",
        "plt.ylim(0,300)                                                            # limit y axis from 0 to 300\n",
        "plt.xlabel(\"Distance [Kpc]\")                                               # label x-axis as the distance in kiloparsec\n",
        "plt.ylabel(\"velocity [km/s]\")                                              # label y-axis as the velocity in km/s\n",
        "plt.legend()"
      ],
      "metadata": {
        "id": "Q08y2C7Krq-L",
        "outputId": "a698a256-4ce8-4e2b-c766-d4e5636db8d3",
        "colab": {
          "base_uri": "https://localhost:8080/",
          "height": 473
        }
      },
      "execution_count": 42,
      "outputs": [
        {
          "output_type": "execute_result",
          "data": {
            "text/plain": [
              "<matplotlib.legend.Legend at 0x7dd8fb43f100>"
            ]
          },
          "metadata": {},
          "execution_count": 42
        },
        {
          "output_type": "display_data",
          "data": {
            "text/plain": [
              "<Figure size 640x480 with 1 Axes>"
            ],
            "image/png": "[encoded data removed]"
          },
          "metadata": {}
        }
      ]
    },
    {
      "cell_type": "code",
      "source": [
        "mass_Disk = 10.3e10 * u.solMass\n",
        "rad_Disk = 3.3e4 * u.parsec\n",
        "dens_Disk = mass_Disk / (np.pi * rad_Disk ** 2)\n",
        "\n",
        "def calc_diskMass(density, radius):\n",
        "  area = np.pi * radius ** 2\n",
        "  return density * area\n",
        "\n",
        "rad = dis * 1000 * u.parsec\n",
        "diskMass = calc_diskMass(dens_Disk,rad)\n",
        "\n",
        "vel_disk = np.zeros(np.shape(dis)) * u.km / u.s\n",
        "\n",
        "vel_disk = calc_orbital_velocity(diskMass,rad).to (u.km/ u.s)\n",
        "\n",
        "dis = tab['col2']                                                          # creating a distance array with the data of column 2 of the file galaxy_rotation_2006.txt\n",
        "vel = tab['col3']                                                          # creating a velocity array with the data of column 2 of the file galaxy_rotation_2006.txt\n",
        "plt.plot(dis,vel, color =\"black\", label = \"Data\")                          # draw a black line labeled by \"Data\" with x values from distance array and y values from velocity array\n",
        "plt.plot(dis,vel_bh.value, color = \"red\", label = \"Black Hole\")            # draw a red line labeled by \"Black Hole\" with x values from distance array and y values from vel_bh array that stores the black hole orbital velocity\n",
        "plt.plot(dis,vel_bul.value,color = \"blue\", label = \"Bulge\")\n",
        "plt.plot(dis,vel_disk.value,color = \"green\", label = \"Disk\")\n",
        "plt.legend(loc = \"upper right\")\n",
        "plt.ylim(0,350)                                                            # limit y axis from 0 to 300\n",
        "plt.xlabel(\"Distance [Kpc]\")                                               # label x-axis as the distance in kiloparsec\n",
        "plt.ylabel(\"velocity [km/s]\")\n",
        "\n"
      ],
      "metadata": {
        "id": "u7K5NuhnxqST",
        "colab": {
          "base_uri": "https://localhost:8080/",
          "height": 473
        },
        "outputId": "53329a48-4d0c-4329-a7a1-db250dd37fab"
      },
      "execution_count": 53,
      "outputs": [
        {
          "output_type": "execute_result",
          "data": {
            "text/plain": [
              "Text(0, 0.5, 'velocity [km/s]')"
            ]
          },
          "metadata": {},
          "execution_count": 53
        },
        {
          "output_type": "display_data",
          "data": {
            "text/plain": [
              "<Figure size 640x480 with 1 Axes>"
            ],
            "image/png": "[encoded data removed]"
          },
          "metadata": {}
        }
      ]
    },
    {
      "cell_type": "code",
      "source": [
        "mass_Dmatter = 1.1e11 * u.solMass\n",
        "radius_Dmatter = 3.3e4 * u.parsec\n",
        "\n",
        "density_Dmatter = mass_Dmatter / (4/3 * np.pi * radius_Dmatter**3)\n",
        "\n",
        "def calc_dMatterMass (density,radius):\n",
        "  volume = 4/3 * np.pi * radius ** 3;\n",
        "  return density * volume;\n",
        "\n",
        "dMatterMass = calc_dMatterMass(density_Dmatter,rad)\n",
        "\n",
        "vel_dMatter = np.zeros(np.shape(dis)) * u.km / u.s\n",
        "\n",
        "vel_dMatter = calc_orbital_velocity(dMatterMass,rad).to (u.km/ u.s)\n",
        "\n",
        "vel_total = vel_dMatter + vel_bh + vel_bul + vel_disk;\n",
        "\n",
        "dis = tab['col2']                                                          # creating a distance array with the data of column 2 of the file galaxy_rotation_2006.txt\n",
        "vel = tab['col3']                                                          # creating a velocity array with the data of column 2 of the file galaxy_rotation_2006.txt\n",
        "plt.plot(dis,vel, color =\"black\", label = \"Data\")                          # draw a black line labeled by \"Data\" with x values from distance array and y values from velocity array\n",
        "plt.plot(dis,vel_bh.value, color = \"red\", label = \"Black Hole\")            # draw a red line labeled by \"Black Hole\" with x values from distance array and y values from vel_bh array that stores the black hole orbital velocity\n",
        "plt.plot(dis,vel_bul.value,color = \"blue\", label = \"Bulge\")\n",
        "plt.plot(dis,vel_disk.value,color = \"green\", label = \"Disk\")\n",
        "plt.plot(dis,vel_dMatter.value,color = \"yellow\", label = \"Dark Matter\")\n",
        "plt.plot(dis,vel_total.value, color = \"black\", label = \"Total\")\n",
        "plt.legend(loc = \"upper right\")\n",
        "plt.ylim(0,350)                                                            # limit y axis from 0 to 300\n",
        "plt.xlabel(\"Distance [Kpc]\")                                               # label x-axis as the distance in kiloparsec\n",
        "plt.ylabel(\"velocity [km/s]\")\n"
      ],
      "metadata": {
        "id": "W8AmypKx9bMa",
        "outputId": "2479fde5-01f9-4266-cd7e-d32a3c7ca08a",
        "colab": {
          "base_uri": "https://localhost:8080/",
          "height": 473
        }
      },
      "execution_count": 54,
      "outputs": [
        {
          "output_type": "execute_result",
          "data": {
            "text/plain": [
              "Text(0, 0.5, 'velocity [km/s]')"
            ]
          },
          "metadata": {},
          "execution_count": 54
        },
        {
          "output_type": "display_data",
          "data": {
            "text/plain": [
              "<Figure size 640x480 with 1 Axes>"
            ],
            "image/png": "[encoded data removed]"
          },
          "metadata": {}
        }
      ]
    },
    {
      "cell_type": "code",
      "source": [
        "df = pd.DataFrame(dis)\n",
        "df['radius'] = dis;\n",
        "df['mass_bhole'] = mass\n",
        "df['mass_disk'] = diskMass\n",
        "df['mass_bulge'] = mass_Bulge\n",
        "pd.set_option('display.float_format', '{:.2g}'.format)\n",
        "df"
      ],
      "metadata": {
        "id": "RJf5NXHocHHV",
        "colab": {
          "base_uri": "https://localhost:8080/",
          "height": 928
        },
        "outputId": "082c12e0-b452-4a4e-8f04-fdcda51e69b0"
      },
      "execution_count": 48,
      "outputs": [
        {
          "output_type": "execute_result",
          "data": {
            "text/plain": [
              "    col2  radius  mass_bhole       mass_disk  mass_bulge\n",
              "0    5.7     5.7       3e+07 3.7e+11 solMass     2.2e+10\n",
              "1    6.8     6.8       3e+07 5.3e+11 solMass     2.2e+10\n",
              "2      8       8       3e+07 7.2e+11 solMass     2.2e+10\n",
              "3    9.1     9.1       3e+07 9.4e+11 solMass     2.2e+10\n",
              "4     10      10       3e+07 1.2e+12 solMass     2.2e+10\n",
              "5     11      11       3e+07 1.5e+12 solMass     2.2e+10\n",
              "6     12      12       3e+07 1.8e+12 solMass     2.2e+10\n",
              "7     14      14       3e+07 2.1e+12 solMass     2.2e+10\n",
              "8     15      15       3e+07 2.5e+12 solMass     2.2e+10\n",
              "9     16      16       3e+07 2.9e+12 solMass     2.2e+10\n",
              "10    17      17       3e+07 3.3e+12 solMass     2.2e+10\n",
              "11    18      18       3e+07 3.8e+12 solMass     2.2e+10\n",
              "12    19      19       3e+07 4.3e+12 solMass     2.2e+10\n",
              "13    20      20       3e+07 4.8e+12 solMass     2.2e+10\n",
              "14    21      21       3e+07 5.3e+12 solMass     2.2e+10\n",
              "15    22      22       3e+07 5.8e+12 solMass     2.2e+10\n",
              "16    24      24       3e+07 6.3e+12 solMass     2.2e+10\n",
              "17    25      25       3e+07 6.9e+12 solMass     2.2e+10\n",
              "18    26      26       3e+07 7.5e+12 solMass     2.2e+10\n",
              "19    27      27       3e+07 8.1e+12 solMass     2.2e+10\n",
              "20    28      28       3e+07 8.7e+12 solMass     2.2e+10\n",
              "21    29      29       3e+07 9.4e+12 solMass     2.2e+10\n",
              "22    30      30       3e+07   1e+13 solMass     2.2e+10\n",
              "23    31      31       3e+07 1.1e+13 solMass     2.2e+10\n",
              "24    32      32       3e+07 1.1e+13 solMass     2.2e+10\n",
              "25    33      33       3e+07 1.2e+13 solMass     2.2e+10\n",
              "26    34      34       3e+07 1.3e+13 solMass     2.2e+10\n",
              "27    35      35       3e+07 1.4e+13 solMass     2.2e+10"
            ],
            "text/html": [
              "\n",
              "  <div id=\"df-9611d669-d8fd-4e22-9a21-6c813a1d7c6e\" class=\"colab-df-container\">\n",
              "    <div>\n",
              "<style scoped>\n",
              "    .dataframe tbody tr th:only-of-type {\n",
              "        vertical-align: middle;\n",
              "    }\n",
              "\n",
              "    .dataframe tbody tr th {\n",
              "        vertical-align: top;\n",
              "    }\n",
              "\n",
              "    .dataframe thead th {\n",
              "        text-align: right;\n",
              "    }\n",
              "</style>\n",
              "<table border=\"1\" class=\"dataframe\">\n",
              "  <thead>\n",
              "    <tr style=\"text-align: right;\">\n",
              "      <th></th>\n",
              "      <th>col2</th>\n",
              "      <th>radius</th>\n",
              "      <th>mass_bhole</th>\n",
              "      <th>mass_disk</th>\n",
              "      <th>mass_bulge</th>\n",
              "    </tr>\n",
              "  </thead>\n",
              "  <tbody>\n",
              "    <tr>\n",
              "      <th>0</th>\n",
              "      <td>5.7</td>\n",
              "      <td>5.7</td>\n",
              "      <td>3e+07</td>\n",
              "      <td>3.7e+11 solMass</td>\n",
              "      <td>2.2e+10</td>\n",
              "    </tr>\n",
              "    <tr>\n",
              "      <th>1</th>\n",
              "      <td>6.8</td>\n",
              "      <td>6.8</td>\n",
              "      <td>3e+07</td>\n",
              "      <td>5.3e+11 solMass</td>\n",
              "      <td>2.2e+10</td>\n",
              "    </tr>\n",
              "    <tr>\n",
              "      <th>2</th>\n",
              "      <td>8</td>\n",
              "      <td>8</td>\n",
              "      <td>3e+07</td>\n",
              "      <td>7.2e+11 solMass</td>\n",
              "      <td>2.2e+10</td>\n",
              "    </tr>\n",
              "    <tr>\n",
              "      <th>3</th>\n",
              "      <td>9.1</td>\n",
              "      <td>9.1</td>\n",
              "      <td>3e+07</td>\n",
              "      <td>9.4e+11 solMass</td>\n",
              "      <td>2.2e+10</td>\n",
              "    </tr>\n",
              "    <tr>\n",
              "      <th>4</th>\n",
              "      <td>10</td>\n",
              "      <td>10</td>\n",
              "      <td>3e+07</td>\n",
              "      <td>1.2e+12 solMass</td>\n",
              "      <td>2.2e+10</td>\n",
              "    </tr>\n",
              "    <tr>\n",
              "      <th>5</th>\n",
              "      <td>11</td>\n",
              "      <td>11</td>\n",
              "      <td>3e+07</td>\n",
              "      <td>1.5e+12 solMass</td>\n",
              "      <td>2.2e+10</td>\n",
              "    </tr>\n",
              "    <tr>\n",
              "      <th>6</th>\n",
              "      <td>12</td>\n",
              "      <td>12</td>\n",
              "      <td>3e+07</td>\n",
              "      <td>1.8e+12 solMass</td>\n",
              "      <td>2.2e+10</td>\n",
              "    </tr>\n",
              "    <tr>\n",
              "      <th>7</th>\n",
              "      <td>14</td>\n",
              "      <td>14</td>\n",
              "      <td>3e+07</td>\n",
              "      <td>2.1e+12 solMass</td>\n",
              "      <td>2.2e+10</td>\n",
              "    </tr>\n",
              "    <tr>\n",
              "      <th>8</th>\n",
              "      <td>15</td>\n",
              "      <td>15</td>\n",
              "      <td>3e+07</td>\n",
              "      <td>2.5e+12 solMass</td>\n",
              "      <td>2.2e+10</td>\n",
              "    </tr>\n",
              "    <tr>\n",
              "      <th>9</th>\n",
              "      <td>16</td>\n",
              "      <td>16</td>\n",
              "      <td>3e+07</td>\n",
              "      <td>2.9e+12 solMass</td>\n",
              "      <td>2.2e+10</td>\n",
              "    </tr>\n",
              "    <tr>\n",
              "      <th>10</th>\n",
              "      <td>17</td>\n",
              "      <td>17</td>\n",
              "      <td>3e+07</td>\n",
              "      <td>3.3e+12 solMass</td>\n",
              "      <td>2.2e+10</td>\n",
              "    </tr>\n",
              "    <tr>\n",
              "      <th>11</th>\n",
              "      <td>18</td>\n",
              "      <td>18</td>\n",
              "      <td>3e+07</td>\n",
              "      <td>3.8e+12 solMass</td>\n",
              "      <td>2.2e+10</td>\n",
              "    </tr>\n",
              "    <tr>\n",
              "      <th>12</th>\n",
              "      <td>19</td>\n",
              "      <td>19</td>\n",
              "      <td>3e+07</td>\n",
              "      <td>4.3e+12 solMass</td>\n",
              "      <td>2.2e+10</td>\n",
              "    </tr>\n",
              "    <tr>\n",
              "      <th>13</th>\n",
              "      <td>20</td>\n",
              "      <td>20</td>\n",
              "      <td>3e+07</td>\n",
              "      <td>4.8e+12 solMass</td>\n",
              "      <td>2.2e+10</td>\n",
              "    </tr>\n",
              "    <tr>\n",
              "      <th>14</th>\n",
              "      <td>21</td>\n",
              "      <td>21</td>\n",
              "      <td>3e+07</td>\n",
              "      <td>5.3e+12 solMass</td>\n",
              "      <td>2.2e+10</td>\n",
              "    </tr>\n",
              "    <tr>\n",
              "      <th>15</th>\n",
              "      <td>22</td>\n",
              "      <td>22</td>\n",
              "      <td>3e+07</td>\n",
              "      <td>5.8e+12 solMass</td>\n",
              "      <td>2.2e+10</td>\n",
              "    </tr>\n",
              "    <tr>\n",
              "      <th>16</th>\n",
              "      <td>24</td>\n",
              "      <td>24</td>\n",
              "      <td>3e+07</td>\n",
              "      <td>6.3e+12 solMass</td>\n",
              "      <td>2.2e+10</td>\n",
              "    </tr>\n",
              "    <tr>\n",
              "      <th>17</th>\n",
              "      <td>25</td>\n",
              "      <td>25</td>\n",
              "      <td>3e+07</td>\n",
              "      <td>6.9e+12 solMass</td>\n",
              "      <td>2.2e+10</td>\n",
              "    </tr>\n",
              "    <tr>\n",
              "      <th>18</th>\n",
              "      <td>26</td>\n",
              "      <td>26</td>\n",
              "      <td>3e+07</td>\n",
              "      <td>7.5e+12 solMass</td>\n",
              "      <td>2.2e+10</td>\n",
              "    </tr>\n",
              "    <tr>\n",
              "      <th>19</th>\n",
              "      <td>27</td>\n",
              "      <td>27</td>\n",
              "      <td>3e+07</td>\n",
              "      <td>8.1e+12 solMass</td>\n",
              "      <td>2.2e+10</td>\n",
              "    </tr>\n",
              "    <tr>\n",
              "      <th>20</th>\n",
              "      <td>28</td>\n",
              "      <td>28</td>\n",
              "      <td>3e+07</td>\n",
              "      <td>8.7e+12 solMass</td>\n",
              "      <td>2.2e+10</td>\n",
              "    </tr>\n",
              "    <tr>\n",
              "      <th>21</th>\n",
              "      <td>29</td>\n",
              "      <td>29</td>\n",
              "      <td>3e+07</td>\n",
              "      <td>9.4e+12 solMass</td>\n",
              "      <td>2.2e+10</td>\n",
              "    </tr>\n",
              "    <tr>\n",
              "      <th>22</th>\n",
              "      <td>30</td>\n",
              "      <td>30</td>\n",
              "      <td>3e+07</td>\n",
              "      <td>1e+13 solMass</td>\n",
              "      <td>2.2e+10</td>\n",
              "    </tr>\n",
              "    <tr>\n",
              "      <th>23</th>\n",
              "      <td>31</td>\n",
              "      <td>31</td>\n",
              "      <td>3e+07</td>\n",
              "      <td>1.1e+13 solMass</td>\n",
              "      <td>2.2e+10</td>\n",
              "    </tr>\n",
              "    <tr>\n",
              "      <th>24</th>\n",
              "      <td>32</td>\n",
              "      <td>32</td>\n",
              "      <td>3e+07</td>\n",
              "      <td>1.1e+13 solMass</td>\n",
              "      <td>2.2e+10</td>\n",
              "    </tr>\n",
              "    <tr>\n",
              "      <th>25</th>\n",
              "      <td>33</td>\n",
              "      <td>33</td>\n",
              "      <td>3e+07</td>\n",
              "      <td>1.2e+13 solMass</td>\n",
              "      <td>2.2e+10</td>\n",
              "    </tr>\n",
              "    <tr>\n",
              "      <th>26</th>\n",
              "      <td>34</td>\n",
              "      <td>34</td>\n",
              "      <td>3e+07</td>\n",
              "      <td>1.3e+13 solMass</td>\n",
              "      <td>2.2e+10</td>\n",
              "    </tr>\n",
              "    <tr>\n",
              "      <th>27</th>\n",
              "      <td>35</td>\n",
              "      <td>35</td>\n",
              "      <td>3e+07</td>\n",
              "      <td>1.4e+13 solMass</td>\n",
              "      <td>2.2e+10</td>\n",
              "    </tr>\n",
              "  </tbody>\n",
              "</table>\n",
              "</div>\n",
              "    <div class=\"colab-df-buttons\">\n",
              "\n",
              "  <div class=\"colab-df-container\">\n",
              "    <button class=\"colab-df-convert\" onclick=\"convertToInteractive('df-9611d669-d8fd-4e22-9a21-6c813a1d7c6e')\"\n",
              "            title=\"Convert this dataframe to an interactive table.\"\n",
              "            style=\"display:none;\">\n",
              "\n",
              "  <svg xmlns=\"http://www.w3.org/2000/svg\" height=\"24px\" viewBox=\"0 -960 960 960\">\n",
              "    <path d=\"M120-120v-720h720v720H120Zm60-500h600v-160H180v160Zm220 220h160v-160H400v160Zm0 220h160v-160H400v160ZM180-400h160v-160H180v160Zm440 0h160v-160H620v160ZM180-180h160v-160H180v160Zm440 0h160v-160H620v160Z\"/>\n",
              "  </svg>\n",
              "    </button>\n",
              "\n",
              "  <style>\n",
              "    .colab-df-container {\n",
              "      display:flex;\n",
              "      gap: 12px;\n",
              "    }\n",
              "\n",
              "    .colab-df-convert {\n",
              "      background-color: #E8F0FE;\n",
              "      border: none;\n",
              "      border-radius: 50%;\n",
              "      cursor: pointer;\n",
              "      display: none;\n",
              "      fill: #1967D2;\n",
              "      height: 32px;\n",
              "      padding: 0 0 0 0;\n",
              "      width: 32px;\n",
              "    }\n",
              "\n",
              "    .colab-df-convert:hover {\n",
              "      background-color: #E2EBFA;\n",
              "      box-shadow: 0px 1px 2px rgba(60, 64, 67, 0.3), 0px 1px 3px 1px rgba(60, 64, 67, 0.15);\n",
              "      fill: #174EA6;\n",
              "    }\n",
              "\n",
              "    .colab-df-buttons div {\n",
              "      margin-bottom: 4px;\n",
              "    }\n",
              "\n",
              "    [theme=dark] .colab-df-convert {\n",
              "      background-color: #3B4455;\n",
              "      fill: #D2E3FC;\n",
              "    }\n",
              "\n",
              "    [theme=dark] .colab-df-convert:hover {\n",
              "      background-color: #434B5C;\n",
              "      box-shadow: 0px 1px 3px 1px rgba(0, 0, 0, 0.15);\n",
              "      filter: drop-shadow(0px 1px 2px rgba(0, 0, 0, 0.3));\n",
              "      fill: #FFFFFF;\n",
              "    }\n",
              "  </style>\n",
              "\n",
              "    <script>\n",
              "      const buttonEl =\n",
              "        document.querySelector('#df-9611d669-d8fd-4e22-9a21-6c813a1d7c6e button.colab-df-convert');\n",
              "      buttonEl.style.display =\n",
              "        google.colab.kernel.accessAllowed ? 'block' : 'none';\n",
              "\n",
              "      async function convertToInteractive(key) {\n",
              "        const element = document.querySelector('#df-9611d669-d8fd-4e22-9a21-6c813a1d7c6e');\n",
              "        const dataTable =\n",
              "          await google.colab.kernel.invokeFunction('convertToInteractive',\n",
              "                                                    [key], {});\n",
              "        if (!dataTable) return;\n",
              "\n",
              "        const docLinkHtml = 'Like what you see? Visit the ' +\n",
              "          '<a target=\"_blank\" href=https://colab.research.google.com/notebooks/data_table.ipynb>data table notebook</a>'\n",
              "          + ' to learn more about interactive tables.';\n",
              "        element.innerHTML = '';\n",
              "        dataTable['output_type'] = 'display_data';\n",
              "        await google.colab.output.renderOutput(dataTable, element);\n",
              "        const docLink = document.createElement('div');\n",
              "        docLink.innerHTML = docLinkHtml;\n",
              "        element.appendChild(docLink);\n",
              "      }\n",
              "    </script>\n",
              "  </div>\n",
              "\n",
              "\n",
              "<div id=\"df-bb07a6a0-e124-48b0-b6bd-21c52c963978\">\n",
              "  <button class=\"colab-df-quickchart\" onclick=\"quickchart('df-bb07a6a0-e124-48b0-b6bd-21c52c963978')\"\n",
              "            title=\"Suggest charts.\"\n",
              "            style=\"display:none;\">\n",
              "\n",
              "<svg xmlns=\"http://www.w3.org/2000/svg\" height=\"24px\"viewBox=\"0 0 24 24\"\n",
              "     width=\"24px\">\n",
              "    <g>\n",
              "        <path d=\"M19 3H5c-1.1 0-2 .9-2 2v14c0 1.1.9 2 2 2h14c1.1 0 2-.9 2-2V5c0-1.1-.9-2-2-2zM9 17H7v-7h2v7zm4 0h-2V7h2v10zm4 0h-2v-4h2v4z\"/>\n",
              "    </g>\n",
              "</svg>\n",
              "  </button>\n",
              "\n",
              "<style>\n",
              "  .colab-df-quickchart {\n",
              "      --bg-color: #E8F0FE;\n",
              "      --fill-color: #1967D2;\n",
              "      --hover-bg-color: #E2EBFA;\n",
              "      --hover-fill-color: #174EA6;\n",
              "      --disabled-fill-color: #AAA;\n",
              "      --disabled-bg-color: #DDD;\n",
              "  }\n",
              "\n",
              "  [theme=dark] .colab-df-quickchart {\n",
              "      --bg-color: #3B4455;\n",
              "      --fill-color: #D2E3FC;\n",
              "      --hover-bg-color: #434B5C;\n",
              "      --hover-fill-color: #FFFFFF;\n",
              "      --disabled-bg-color: #3B4455;\n",
              "      --disabled-fill-color: #666;\n",
              "  }\n",
              "\n",
              "  .colab-df-quickchart {\n",
              "    background-color: var(--bg-color);\n",
              "    border: none;\n",
              "    border-radius: 50%;\n",
              "    cursor: pointer;\n",
              "    display: none;\n",
              "    fill: var(--fill-color);\n",
              "    height: 32px;\n",
              "    padding: 0;\n",
              "    width: 32px;\n",
              "  }\n",
              "\n",
              "  .colab-df-quickchart:hover {\n",
              "    background-color: var(--hover-bg-color);\n",
              "    box-shadow: 0 1px 2px rgba(60, 64, 67, 0.3), 0 1px 3px 1px rgba(60, 64, 67, 0.15);\n",
              "    fill: var(--button-hover-fill-color);\n",
              "  }\n",
              "\n",
              "  .colab-df-quickchart-complete:disabled,\n",
              "  .colab-df-quickchart-complete:disabled:hover {\n",
              "    background-color: var(--disabled-bg-color);\n",
              "    fill: var(--disabled-fill-color);\n",
              "    box-shadow: none;\n",
              "  }\n",
              "\n",
              "  .colab-df-spinner {\n",
              "    border: 2px solid var(--fill-color);\n",
              "    border-color: transparent;\n",
              "    border-bottom-color: var(--fill-color);\n",
              "    animation:\n",
              "      spin 1s steps(1) infinite;\n",
              "  }\n",
              "\n",
              "  @keyframes spin {\n",
              "    0% {\n",
              "      border-color: transparent;\n",
              "      border-bottom-color: var(--fill-color);\n",
              "      border-left-color: var(--fill-color);\n",
              "    }\n",
              "    20% {\n",
              "      border-color: transparent;\n",
              "      border-left-color: var(--fill-color);\n",
              "      border-top-color: var(--fill-color);\n",
              "    }\n",
              "    30% {\n",
              "      border-color: transparent;\n",
              "      border-left-color: var(--fill-color);\n",
              "      border-top-color: var(--fill-color);\n",
              "      border-right-color: var(--fill-color);\n",
              "    }\n",
              "    40% {\n",
              "      border-color: transparent;\n",
              "      border-right-color: var(--fill-color);\n",
              "      border-top-color: var(--fill-color);\n",
              "    }\n",
              "    60% {\n",
              "      border-color: transparent;\n",
              "      border-right-color: var(--fill-color);\n",
              "    }\n",
              "    80% {\n",
              "      border-color: transparent;\n",
              "      border-right-color: var(--fill-color);\n",
              "      border-bottom-color: var(--fill-color);\n",
              "    }\n",
              "    90% {\n",
              "      border-color: transparent;\n",
              "      border-bottom-color: var(--fill-color);\n",
              "    }\n",
              "  }\n",
              "</style>\n",
              "\n",
              "  <script>\n",
              "    async function quickchart(key) {\n",
              "      const quickchartButtonEl =\n",
              "        document.querySelector('#' + key + ' button');\n",
              "      quickchartButtonEl.disabled = true;  // To prevent multiple clicks.\n",
              "      quickchartButtonEl.classList.add('colab-df-spinner');\n",
              "      try {\n",
              "        const charts = await google.colab.kernel.invokeFunction(\n",
              "            'suggestCharts', [key], {});\n",
              "      } catch (error) {\n",
              "        console.error('Error during call to suggestCharts:', error);\n",
              "      }\n",
              "      quickchartButtonEl.classList.remove('colab-df-spinner');\n",
              "      quickchartButtonEl.classList.add('colab-df-quickchart-complete');\n",
              "    }\n",
              "    (() => {\n",
              "      let quickchartButtonEl =\n",
              "        document.querySelector('#df-bb07a6a0-e124-48b0-b6bd-21c52c963978 button');\n",
              "      quickchartButtonEl.style.display =\n",
              "        google.colab.kernel.accessAllowed ? 'block' : 'none';\n",
              "    })();\n",
              "  </script>\n",
              "</div>\n",
              "    </div>\n",
              "  </div>\n"
            ]
          },
          "metadata": {},
          "execution_count": 48
        }
      ]
    },
    {
      "cell_type": "code",
      "source": [],
      "metadata": {
        "id": "qSfNQbNXihr4"
      },
      "execution_count": 16,
      "outputs": []
    }
  ],
  "metadata": {
    "colab": {
      "provenance": [],
      "include_colab_link": true
    },
    "kernelspec": {
      "display_name": "Python 3",
      "name": "python3"
    },
    "language_info": {
      "name": "python"
    }
  },
  "nbformat": 4,
  "nbformat_minor": 0
}