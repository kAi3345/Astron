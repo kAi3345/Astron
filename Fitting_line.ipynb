{
  "nbformat": 4,
  "nbformat_minor": 0,
  "metadata": {
    "colab": {
      "provenance": [],
      "authorship_tag": "ABX9TyNuxJXtBAmQra5ZrlKmAExt",
      "include_colab_link": true
    },
    "kernelspec": {
      "name": "python3",
      "display_name": "Python 3"
    },
    "language_info": {
      "name": "python"
    }
  },
  "cells": [
    {
      "cell_type": "markdown",
      "metadata": {
        "id": "view-in-github",
        "colab_type": "text"
      },
      "source": [
        "<a href=\"https://colab.research.google.com/github/kAi3345/Astron/blob/main/Fitting_line.ipynb\" target=\"_parent\"><img src=\"https://colab.research.google.com/assets/colab-badge.svg\" alt=\"Open In Colab\"/></a>"
      ]
    },
    {
      "cell_type": "code",
      "execution_count": 1,
      "metadata": {
        "id": "cP6KSAJjVZrR"
      },
      "outputs": [],
      "source": [
        "import numpy as np\n",
        "import matplotlib.pyplot as plt\n",
        "import astropy.io.ascii\n",
        "import astropy.units as u\n",
        "import astropy.constants as ac"
      ]
    },
    {
      "cell_type": "code",
      "source": [
        "from google.colab import files\n",
        "uploaded = files.upload()"
      ],
      "metadata": {
        "colab": {
          "base_uri": "https://localhost:8080/",
          "height": 74
        },
        "id": "KeyYO39LVvx8",
        "outputId": "20ca5cd9-0bb6-44e2-93d5-cb1face13503"
      },
      "execution_count": 2,
      "outputs": [
        {
          "output_type": "display_data",
          "data": {
            "text/plain": [
              "<IPython.core.display.HTML object>"
            ],
            "text/html": [
              "\n",
              "     <input type=\"file\" id=\"files-8a7e52d3-5f21-4f65-9752-27156f3c9302\" name=\"files[]\" multiple disabled\n",
              "        style=\"border:none\" />\n",
              "     <output id=\"result-8a7e52d3-5f21-4f65-9752-27156f3c9302\">\n",
              "      Upload widget is only available when the cell has been executed in the\n",
              "      current browser session. Please rerun this cell to enable.\n",
              "      </output>\n",
              "      <script>// Copyright 2017 Google LLC\n",
              "//\n",
              "// Licensed under the Apache License, Version 2.0 (the \"License\");\n",
              "// you may not use this file except in compliance with the License.\n",
              "// You may obtain a copy of the License at\n",
              "//\n",
              "//      http://www.apache.org/licenses/LICENSE-2.0\n",
              "//\n",
              "// Unless required by applicable law or agreed to in writing, software\n",
              "// distributed under the License is distributed on an \"AS IS\" BASIS,\n",
              "// WITHOUT WARRANTIES OR CONDITIONS OF ANY KIND, either express or implied.\n",
              "// See the License for the specific language governing permissions and\n",
              "// limitations under the License.\n",
              "\n",
              "/**\n",
              " * @fileoverview Helpers for google.colab Python module.\n",
              " */\n",
              "(function(scope) {\n",
              "function span(text, styleAttributes = {}) {\n",
              "  const element = document.createElement('span');\n",
              "  element.textContent = text;\n",
              "  for (const key of Object.keys(styleAttributes)) {\n",
              "    element.style[key] = styleAttributes[key];\n",
              "  }\n",
              "  return element;\n",
              "}\n",
              "\n",
              "// Max number of bytes which will be uploaded at a time.\n",
              "const MAX_PAYLOAD_SIZE = 100 * 1024;\n",
              "\n",
              "function _uploadFiles(inputId, outputId) {\n",
              "  const steps = uploadFilesStep(inputId, outputId);\n",
              "  const outputElement = document.getElementById(outputId);\n",
              "  // Cache steps on the outputElement to make it available for the next call\n",
              "  // to uploadFilesContinue from Python.\n",
              "  outputElement.steps = steps;\n",
              "\n",
              "  return _uploadFilesContinue(outputId);\n",
              "}\n",
              "\n",
              "// This is roughly an async generator (not supported in the browser yet),\n",
              "// where there are multiple asynchronous steps and the Python side is going\n",
              "// to poll for completion of each step.\n",
              "// This uses a Promise to block the python side on completion of each step,\n",
              "// then passes the result of the previous step as the input to the next step.\n",
              "function _uploadFilesContinue(outputId) {\n",
              "  const outputElement = document.getElementById(outputId);\n",
              "  const steps = outputElement.steps;\n",
              "\n",
              "  const next = steps.next(outputElement.lastPromiseValue);\n",
              "  return Promise.resolve(next.value.promise).then((value) => {\n",
              "    // Cache the last promise value to make it available to the next\n",
              "    // step of the generator.\n",
              "    outputElement.lastPromiseValue = value;\n",
              "    return next.value.response;\n",
              "  });\n",
              "}\n",
              "\n",
              "/**\n",
              " * Generator function which is called between each async step of the upload\n",
              " * process.\n",
              " * @param {string} inputId Element ID of the input file picker element.\n",
              " * @param {string} outputId Element ID of the output display.\n",
              " * @return {!Iterable<!Object>} Iterable of next steps.\n",
              " */\n",
              "function* uploadFilesStep(inputId, outputId) {\n",
              "  const inputElement = document.getElementById(inputId);\n",
              "  inputElement.disabled = false;\n",
              "\n",
              "  const outputElement = document.getElementById(outputId);\n",
              "  outputElement.innerHTML = '';\n",
              "\n",
              "  const pickedPromise = new Promise((resolve) => {\n",
              "    inputElement.addEventListener('change', (e) => {\n",
              "      resolve(e.target.files);\n",
              "    });\n",
              "  });\n",
              "\n",
              "  const cancel = document.createElement('button');\n",
              "  inputElement.parentElement.appendChild(cancel);\n",
              "  cancel.textContent = 'Cancel upload';\n",
              "  const cancelPromise = new Promise((resolve) => {\n",
              "    cancel.onclick = () => {\n",
              "      resolve(null);\n",
              "    };\n",
              "  });\n",
              "\n",
              "  // Wait for the user to pick the files.\n",
              "  const files = yield {\n",
              "    promise: Promise.race([pickedPromise, cancelPromise]),\n",
              "    response: {\n",
              "      action: 'starting',\n",
              "    }\n",
              "  };\n",
              "\n",
              "  cancel.remove();\n",
              "\n",
              "  // Disable the input element since further picks are not allowed.\n",
              "  inputElement.disabled = true;\n",
              "\n",
              "  if (!files) {\n",
              "    return {\n",
              "      response: {\n",
              "        action: 'complete',\n",
              "      }\n",
              "    };\n",
              "  }\n",
              "\n",
              "  for (const file of files) {\n",
              "    const li = document.createElement('li');\n",
              "    li.append(span(file.name, {fontWeight: 'bold'}));\n",
              "    li.append(span(\n",
              "        `(${file.type || 'n/a'}) - ${file.size} bytes, ` +\n",
              "        `last modified: ${\n",
              "            file.lastModifiedDate ? file.lastModifiedDate.toLocaleDateString() :\n",
              "                                    'n/a'} - `));\n",
              "    const percent = span('0% done');\n",
              "    li.appendChild(percent);\n",
              "\n",
              "    outputElement.appendChild(li);\n",
              "\n",
              "    const fileDataPromise = new Promise((resolve) => {\n",
              "      const reader = new FileReader();\n",
              "      reader.onload = (e) => {\n",
              "        resolve(e.target.result);\n",
              "      };\n",
              "      reader.readAsArrayBuffer(file);\n",
              "    });\n",
              "    // Wait for the data to be ready.\n",
              "    let fileData = yield {\n",
              "      promise: fileDataPromise,\n",
              "      response: {\n",
              "        action: 'continue',\n",
              "      }\n",
              "    };\n",
              "\n",
              "    // Use a chunked sending to avoid message size limits. See b/62115660.\n",
              "    let position = 0;\n",
              "    do {\n",
              "      const length = Math.min(fileData.byteLength - position, MAX_PAYLOAD_SIZE);\n",
              "      const chunk = new Uint8Array(fileData, position, length);\n",
              "      position += length;\n",
              "\n",
              "      const base64 = btoa(String.fromCharCode.apply(null, chunk));\n",
              "      yield {\n",
              "        response: {\n",
              "          action: 'append',\n",
              "          file: file.name,\n",
              "          data: base64,\n",
              "        },\n",
              "      };\n",
              "\n",
              "      let percentDone = fileData.byteLength === 0 ?\n",
              "          100 :\n",
              "          Math.round((position / fileData.byteLength) * 100);\n",
              "      percent.textContent = `${percentDone}% done`;\n",
              "\n",
              "    } while (position < fileData.byteLength);\n",
              "  }\n",
              "\n",
              "  // All done.\n",
              "  yield {\n",
              "    response: {\n",
              "      action: 'complete',\n",
              "    }\n",
              "  };\n",
              "}\n",
              "\n",
              "scope.google = scope.google || {};\n",
              "scope.google.colab = scope.google.colab || {};\n",
              "scope.google.colab._files = {\n",
              "  _uploadFiles,\n",
              "  _uploadFilesContinue,\n",
              "};\n",
              "})(self);\n",
              "</script> "
            ]
          },
          "metadata": {}
        },
        {
          "output_type": "stream",
          "name": "stdout",
          "text": [
            "Saving Tonry_2003.vot to Tonry_2003.vot\n"
          ]
        }
      ]
    },
    {
      "cell_type": "code",
      "source": [
        "dat = astropy.io.ascii.read(\"Tonry_2003.vot\")                                        # read the data from the paper\n",
        "distance = 10**dat[\"col8\"] / 72.0 * u.mpc                                            # the distance of the galaxies\n",
        "velocity = 10**dat[\"col7\"] * u.km / u.s                                              # the velocity of the galaxies\n",
        "distance_error = (10**(dat[\"col8\"]+dat[\"col9\"]) - 10**dat[\"col8\"]) / 72.0 * u.mpc    # distance errors\n"
      ],
      "metadata": {
        "colab": {
          "base_uri": "https://localhost:8080/"
        },
        "id": "vdaMyvj8Vy13",
        "outputId": "b5a06318-df68-40f5-c841-913ae2776c4e"
      },
      "execution_count": 16,
      "outputs": [
        {
          "output_type": "stream",
          "name": "stderr",
          "text": [
            "/usr/local/lib/python3.10/dist-packages/bs4/builder/__init__.py:545: XMLParsedAsHTMLWarning: It looks like you're parsing an XML document using an HTML parser. If this really is an HTML document (maybe it's XHTML?), you can ignore or filter this warning. If it's XML, you should know that using an XML parser will be more reliable. To parse this document as XML, make sure you have the lxml package installed, and pass the keyword argument `features=\"xml\"` into the BeautifulSoup constructor.\n",
            "  warnings.warn(\n"
          ]
        }
      ]
    },
    {
      "cell_type": "code",
      "source": [
        "x = distance.to(u.mpc).value                                                    # extract the numerical values of distances and convert to mpc\n",
        "ind = np.where((x > 0) & (x < 300))                                             # choose the data only from the local universe\n",
        "x = velocity.to(u.km / u.s).value[ind]                                          # extract the numerical values of velocities and convert to km/s\n",
        "y = distance.to(u.mpc).value[ind]                                               # choose the distance data only for local universe\n",
        "yerr = distance_error.to(u.mpc).value[ind]                                      # only use the distance error data in the local universe"
      ],
      "metadata": {
        "id": "7J82G1-mV7Hw"
      },
      "execution_count": 18,
      "outputs": []
    },
    {
      "cell_type": "code",
      "source": [
        "matrix = np.vander(x, 2)                                                        # make a Vandermonde matrix using the velocity of galaxies\n",
        "diagonalMatrix = np.diag(yerr * yerr)                                           # make a diagonal matrix with the square of distance errors\n",
        "transposeMatrix  = np.dot(matrix.T, matrix / (yerr**2)[:, None])                # make a transpose matrix using velocity and diagonal matrix\n",
        "cov = np.linalg.inv(transposeMatrix)                                            # inverse the transpose matrix\n",
        "parameter = np.linalg.solve(transposeMatrix, np.dot(matrix.T, y / yerr**2))     # using linalg.solve function to get the slope and interception of the line\n",
        "# print the result\n",
        "print(\"Least-squares estimates:\")\n",
        "print(\"m = {0:.3f} ± {1:.3f}\".format(parameter[0], np.sqrt(cov[0, 0])))\n",
        "print(\"b = {0:.3f} ± {1:.3f}\".format(parameter[1], np.sqrt(cov[1, 1])))"
      ],
      "metadata": {
        "colab": {
          "base_uri": "https://localhost:8080/"
        },
        "id": "5HW1TzqtWAcT",
        "outputId": "39e242b5-201b-484a-f99b-cbfbc8526157"
      },
      "execution_count": 19,
      "outputs": [
        {
          "output_type": "stream",
          "name": "stdout",
          "text": [
            "Least-squares estimates:\n",
            "m = 0.015 ± 0.000\n",
            "b = -6.354 ± 0.225\n"
          ]
        }
      ]
    },
    {
      "cell_type": "code",
      "source": [
        "x0 = np.linspace(0, 23000, 300)                                                 # the velocity interval is between 0 and 23000 with each spaced 300\n",
        "# print the picture\n",
        "plt.errorbar(x, y, yerr=yerr, fmt=\".k\", capsize=0)\n",
        "plt.plot(x0, np.dot(np.vander(x0, 2), parameter), \"--k\", label=\"LS\")\n",
        "plt.legend(fontsize=14)\n",
        "plt.ylabel(\"Distance [Mpc]\")\n",
        "plt.xlabel(\"Velocity [km/s]\");\n",
        "print(\"Least-squares estimates:\")\n",
        "print(\"m = {0:.3f} ± {1:.3f}\".format(parameter[0], np.sqrt(cov[0, 0])))\n",
        "print(\"b = {0:.3f} ± {1:.3f}\".format(parameter[1], np.sqrt(cov[1, 1])))\n",
        "print(\"Hubble constant: \", 1 / parameter[0])"
      ],
      "metadata": {
        "colab": {
          "base_uri": "https://localhost:8080/",
          "height": 520
        },
        "id": "Xqqo7dRGZ3HD",
        "outputId": "f8d5e18b-7f47-4129-d87e-1647ca3f0ab3"
      },
      "execution_count": 20,
      "outputs": [
        {
          "output_type": "stream",
          "name": "stdout",
          "text": [
            "Least-squares estimates:\n",
            "m = 0.015 ± 0.000\n",
            "b = -6.354 ± 0.225\n",
            "Hubble constant:  67.74588886055774\n"
          ]
        },
        {
          "output_type": "display_data",
          "data": {
            "text/plain": [
              "<Figure size 640x480 with 1 Axes>"
            ],
            "image/png": "[encoded data removed]"
          },
          "metadata": {}
        }
      ]
    },
    {
      "cell_type": "code",
      "source": [
        "x = distance.to(u.mpc).value                                                    # extract the numerical values of distances and convert to mpc\n",
        "ind = np.where(x > 300)                                                         # choose the data only from the distance universe\n",
        "x = velocity.to(u.km / u.s).value[ind]                                          # extract the numerical values of velocities and convert to km/s\n",
        "y = distance.to(u.mpc).value[ind]                                               # choose the distance data only for distance universe\n",
        "yerr = distance_error.to(u.mpc).value[ind]                                      # only use the distance error data in the local universe"
      ],
      "metadata": {
        "id": "rCIZ0n8zZYxc"
      },
      "execution_count": 28,
      "outputs": []
    },
    {
      "cell_type": "code",
      "source": [
        "# generate matrix using the velocity data and distance error data\n",
        "matrix = np.vander(x, 2)\n",
        "diagonalMatrix = np.diag(yerr * yerr)\n",
        "transposeMatrix  = np.dot(matrix.T, matrix / (yerr**2)[:, None])\n",
        "cov = np.linalg.inv(transposeMatrix)                                            # inverse the transpose matrix\n",
        "parameter = np.linalg.solve(transposeMatrix, np.dot(matrix.T, y / yerr**2))     # using linalg.solve to get the least squared residuals slope and interception\n",
        "# print the result\n",
        "print(\"Least-squares estimates:\")\n",
        "print(\"m = {0:.3f} ± {1:.3f}\".format(parameter[0], np.sqrt(cov[0, 0])))\n",
        "print(\"b = {0:.3f} ± {1:.3f}\".format(parameter[1], np.sqrt(cov[1, 1])))"
      ],
      "metadata": {
        "colab": {
          "base_uri": "https://localhost:8080/"
        },
        "id": "JogiGOpyZsNz",
        "outputId": "f016caf1-cc7a-40c5-feb4-0cfe4539091f"
      },
      "execution_count": 29,
      "outputs": [
        {
          "output_type": "stream",
          "name": "stdout",
          "text": [
            "Least-squares estimates:\n",
            "m = 0.018 ± 0.000\n",
            "b = -103.504 ± 12.572\n"
          ]
        }
      ]
    },
    {
      "cell_type": "code",
      "source": [
        "x0 = np.linspace(0, 600000, 400)                                                # the velocity ranger from 20000 to 150000 with each spaced 700\n",
        "# print the picture\n",
        "plt.errorbar(x, y, yerr=yerr, fmt=\".k\", capsize=0)\n",
        "plt.plot(x0, np.dot(np.vander(x0, 2), parameter), \"--k\", label=\"LS\")\n",
        "plt.legend(fontsize=14)\n",
        "plt.ylabel(\"Distance [Mpc]\")\n",
        "plt.xlabel(\"Velocity [km/s]\");\n",
        "print(\"m = {0:.3f} ± {1:.3f}\".format(parameter[0], np.sqrt(cov[0, 0])))\n",
        "print(\"b = {0:.3f} ± {1:.3f}\".format(parameter[1], np.sqrt(cov[1, 1])))\n",
        "print(\"Hubble constant: \", 1 / parameter[0])"
      ],
      "metadata": {
        "colab": {
          "base_uri": "https://localhost:8080/",
          "height": 504
        },
        "id": "5_dCgSrnafFc",
        "outputId": "af6793fa-0679-4a25-bf29-53fa3f9edd56"
      },
      "execution_count": 30,
      "outputs": [
        {
          "output_type": "stream",
          "name": "stdout",
          "text": [
            "m = 0.018 ± 0.000\n",
            "b = -103.504 ± 12.572\n",
            "Hubble constant:  54.1435972811673\n"
          ]
        },
        {
          "output_type": "display_data",
          "data": {
            "text/plain": [
              "<Figure size 640x480 with 1 Axes>"
            ],
            "image/png": "[encoded data removed]"
          },
          "metadata": {}
        }
      ]
    },
    {
      "cell_type": "code",
      "source": [],
      "metadata": {
        "id": "KiCirK47mMjk"
      },
      "execution_count": null,
      "outputs": []
    },
    {
      "cell_type": "markdown",
      "source": [],
      "metadata": {
        "id": "JUlcMVlRmhZd"
      }
    }
  ]
}