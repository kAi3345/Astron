{
  "nbformat": 4,
  "nbformat_minor": 0,
  "metadata": {
    "colab": {
      "provenance": [],
      "authorship_tag": "ABX9TyNcWmdSNAsmqQeXenAKGTFw",
      "include_colab_link": true
    },
    "kernelspec": {
      "name": "python3",
      "display_name": "Python 3"
    },
    "language_info": {
      "name": "python"
    }
  },
  "cells": [
    {
      "cell_type": "markdown",
      "metadata": {
        "id": "view-in-github",
        "colab_type": "text"
      },
      "source": [
        "<a href=\"https://colab.research.google.com/github/kAi3345/Dark-Matter/blob/main/Black%20Hole%20Radius.ipynb\" target=\"_parent\"><img src=\"https://colab.research.google.com/assets/colab-badge.svg\" alt=\"Open In Colab\"/></a>"
      ]
    },
    {
      "cell_type": "code",
      "execution_count": 2,
      "metadata": {
        "id": "uElGyp6FjL8X"
      },
      "outputs": [],
      "source": [
        "import numpy as np\n",
        "import astropy.units as u\n",
        "import astropy.constants as ac\n",
        "from google.colab import files"
      ]
    },
    {
      "cell_type": "code",
      "source": [
        "m_blackhole = 1 * u.solMass\n",
        "\n",
        "r_bh = ((2 * ac.G * m_blackhole) / ac.c ** 2)\n",
        "print(\"The radius of a black hole with solar mass is \", r_bh.to(u.km))"
      ],
      "metadata": {
        "colab": {
          "base_uri": "https://localhost:8080/"
        },
        "id": "QV0MKBvCjjEk",
        "outputId": "a6c47190-2b8f-4fcd-d303-380bf9d66cd3"
      },
      "execution_count": 5,
      "outputs": [
        {
          "output_type": "stream",
          "name": "stdout",
          "text": [
            "The radius of a black hole with solar mass is  2.95325007610025 km\n"
          ]
        }
      ]
    },
    {
      "cell_type": "code",
      "source": [
        "delta_t = 0.01 * u.second\n",
        "\n",
        "m_bh = (delta_t * ac.c**3) / (16 * np.pi * ac.G)\n",
        "\n",
        "print(\"The mass of two merging black holes is \", m_bh.to(u.solMass))"
      ],
      "metadata": {
        "id": "vsmo147qge93",
        "outputId": "a9436303-7ffa-48b9-f77f-6d2664ce6350",
        "colab": {
          "base_uri": "https://localhost:8080/"
        }
      },
      "execution_count": 8,
      "outputs": [
        {
          "output_type": "stream",
          "name": "stdout",
          "text": [
            "The mass of two merging black holes is  40.390629275268466 solMass\n"
          ]
        }
      ]
    },
    {
      "cell_type": "code",
      "source": [
        "h = 1e-21\n",
        "\n",
        "delta_earth = 1 * u.earthRad * h\n",
        "\n",
        "print(\"Deformation of Earth is \", delta_earth.to(u.m))\n"
      ],
      "metadata": {
        "colab": {
          "base_uri": "https://localhost:8080/"
        },
        "id": "FrzzBuZ4jXU1",
        "outputId": "125f15cf-0d1d-4231-97cc-28df4109e435"
      },
      "execution_count": 10,
      "outputs": [
        {
          "output_type": "stream",
          "name": "stdout",
          "text": [
            "Deformation of Earth is  6.378099999999999e-15 m\n"
          ]
        }
      ]
    },
    {
      "cell_type": "markdown",
      "source": [
        "distance = R_bh / h"
      ],
      "metadata": {
        "id": "zItILwz6iEzG"
      }
    },
    {
      "cell_type": "code",
      "source": [
        "R_bh = 2 * ac.G * 30 * u.solMass / ac.c**2\n",
        "\n",
        "distance = (R_bh / h). to (1e6 * u.parsec)\n",
        "\n",
        "print(\"Distance of the black hole merger is \", distance)\n",
        "\n"
      ],
      "metadata": {
        "colab": {
          "base_uri": "https://localhost:8080/"
        },
        "id": "sAbKAW9qoD8m",
        "outputId": "26c3c6f3-3581-40a9-99af-741f55603590"
      },
      "execution_count": 12,
      "outputs": [
        {
          "output_type": "stream",
          "name": "stdout",
          "text": [
            "Distance of the black hole merger is  2871.249504952705 1e+06 pc\n"
          ]
        }
      ]
    },
    {
      "cell_type": "code",
      "source": [],
      "metadata": {
        "id": "DLjSdePApty-"
      },
      "execution_count": null,
      "outputs": []
    }
  ]
}